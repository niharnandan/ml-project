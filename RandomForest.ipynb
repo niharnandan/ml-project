{
 "cells": [
  {
   "cell_type": "code",
   "execution_count": 72,
   "metadata": {},
   "outputs": [],
   "source": [
    "import numpy as np\n",
    "import pandas as pd\n",
    "import matplotlib.pyplot as plt"
   ]
  },
  {
   "cell_type": "code",
   "execution_count": 73,
   "metadata": {},
   "outputs": [],
   "source": [
    "merged = pd.read_csv('merged_binary.csv', sep=',', header=0)"
   ]
  },
  {
   "cell_type": "code",
   "execution_count": 74,
   "metadata": {},
   "outputs": [
    {
     "data": {
      "text/plain": [
       "Index(['Date', 'MaximumTemp', 'MinimumTemp', 'AverageTemp', 'Departure', 'HDD',\n",
       "       'CDD', 'Precipitation', 'NewSnow', 'DepartureTemp', 'SnowDepth',\n",
       "       'Ozone', 'CO', 'Electricity(GWh)/Non-Residential',\n",
       "       'Electricity(GWh)/Residential', 'Gas(Therms)/Non-Residential',\n",
       "       'Gas(Therms)/Residential', 'Median_Income(dollars)', 'Population',\n",
       "       'Wind', 'Solar', 'Small hydro', 'Geothermal', 'Biomass', 'Large hydro',\n",
       "       'Coal', 'Nuclear', 'Natural gas', 'Unspecified', 'bCO', 'bOzone'],\n",
       "      dtype='object')"
      ]
     },
     "execution_count": 74,
     "metadata": {},
     "output_type": "execute_result"
    }
   ],
   "source": [
    "merged.columns"
   ]
  },
  {
   "cell_type": "code",
   "execution_count": 75,
   "metadata": {},
   "outputs": [],
   "source": [
    "merged = merged.drop(['Ozone', 'CO'], axis=1)"
   ]
  },
  {
   "cell_type": "code",
   "execution_count": 76,
   "metadata": {},
   "outputs": [
    {
     "data": {
      "text/plain": [
       "Index(['Date', 'MaximumTemp', 'MinimumTemp', 'AverageTemp', 'Departure', 'HDD',\n",
       "       'CDD', 'Precipitation', 'NewSnow', 'DepartureTemp', 'SnowDepth',\n",
       "       'Electricity(GWh)/Non-Residential', 'Electricity(GWh)/Residential',\n",
       "       'Gas(Therms)/Non-Residential', 'Gas(Therms)/Residential',\n",
       "       'Median_Income(dollars)', 'Population', 'Wind', 'Solar', 'Small hydro',\n",
       "       'Geothermal', 'Biomass', 'Large hydro', 'Coal', 'Nuclear',\n",
       "       'Natural gas', 'Unspecified', 'bCO', 'bOzone'],\n",
       "      dtype='object')"
      ]
     },
     "execution_count": 76,
     "metadata": {},
     "output_type": "execute_result"
    }
   ],
   "source": [
    "merged.columns"
   ]
  },
  {
   "cell_type": "code",
   "execution_count": 77,
   "metadata": {},
   "outputs": [],
   "source": [
    "merged['Departure'] = merged['Departure'].fillna(merged['DepartureTemp'])"
   ]
  },
  {
   "cell_type": "code",
   "execution_count": 78,
   "metadata": {},
   "outputs": [],
   "source": [
    "merged = merged.drop(['DepartureTemp'], axis=1)"
   ]
  },
  {
   "cell_type": "code",
   "execution_count": 79,
   "metadata": {},
   "outputs": [],
   "source": [
    "merged = merged.replace('M', None)\n",
    "merged = merged.replace('T', None)"
   ]
  },
  {
   "cell_type": "code",
   "execution_count": 80,
   "metadata": {},
   "outputs": [],
   "source": [
    "merged = merged.fillna(0)"
   ]
  },
  {
   "cell_type": "code",
   "execution_count": 81,
   "metadata": {},
   "outputs": [],
   "source": [
    "import datetime as dt\n",
    "\n",
    "merged.Date = pd.to_datetime(merged.Date)\n",
    "merged.Date  = (merged.Date - pd.Timestamp(\"1970-01-01\")) // pd.Timedelta('1s')\n",
    "# merged.Date = merged.Date.astype(int)"
   ]
  },
  {
   "cell_type": "code",
   "execution_count": 82,
   "metadata": {},
   "outputs": [],
   "source": [
    "ozone_y = merged['bOzone']\n",
    "co_y = merged['bCO']\n",
    "features = merged.drop(['bOzone', 'bCO'], axis=1)"
   ]
  },
  {
   "cell_type": "markdown",
   "metadata": {},
   "source": [
    "## RF for ozone"
   ]
  },
  {
   "cell_type": "code",
   "execution_count": 83,
   "metadata": {},
   "outputs": [],
   "source": [
    "from sklearn.model_selection import train_test_split\n",
    "\n",
    "X_train_ozone, X_test_ozone, ozone_train, ozone_test = train_test_split(features, ozone_y, test_size=0.4, random_state=0)\n",
    "\n"
   ]
  },
  {
   "cell_type": "code",
   "execution_count": 84,
   "metadata": {},
   "outputs": [],
   "source": [
    "from sklearn.ensemble import RandomForestClassifier\n",
    "\n",
    "clf_ozone = RandomForestClassifier(n_estimators=100, min_impurity_decrease=1e-11)#min_impurity_split=1e-8)\n",
    "clf_ozone = clf_ozone.fit(X_train_ozone, ozone_train)"
   ]
  },
  {
   "cell_type": "code",
   "execution_count": 85,
   "metadata": {},
   "outputs": [],
   "source": [
    "pred_ozone = clf_ozone.predict(X_test_ozone)"
   ]
  },
  {
   "cell_type": "code",
   "execution_count": 86,
   "metadata": {},
   "outputs": [
    {
     "data": {
      "text/plain": [
       "0.8276333789329685"
      ]
     },
     "execution_count": 86,
     "metadata": {},
     "output_type": "execute_result"
    }
   ],
   "source": [
    "from sklearn.metrics import accuracy_score\n",
    "\n",
    "accuracy_score(ozone_test, pred_ozone)"
   ]
  },
  {
   "cell_type": "markdown",
   "metadata": {},
   "source": [
    "## RF for CO"
   ]
  },
  {
   "cell_type": "code",
   "execution_count": 87,
   "metadata": {},
   "outputs": [],
   "source": [
    "X_train_co, X_test_co, co_train, co_test = train_test_split(features, co_y, test_size=0.4, random_state=0)\n"
   ]
  },
  {
   "cell_type": "code",
   "execution_count": 88,
   "metadata": {},
   "outputs": [],
   "source": [
    "from sklearn.ensemble import RandomForestClassifier\n",
    "\n",
    "clf_co = RandomForestClassifier(n_estimators=100, min_impurity_decrease=1e-11)\n",
    "clf_co = clf_co.fit(X_train_co, co_train)"
   ]
  },
  {
   "cell_type": "code",
   "execution_count": 89,
   "metadata": {},
   "outputs": [],
   "source": [
    "pred_co = clf_co.predict(X_test_co)"
   ]
  },
  {
   "cell_type": "code",
   "execution_count": 90,
   "metadata": {},
   "outputs": [
    {
     "data": {
      "text/plain": [
       "0.8837209302325582"
      ]
     },
     "execution_count": 90,
     "metadata": {},
     "output_type": "execute_result"
    }
   ],
   "source": [
    "accuracy_score(co_test, pred_co)"
   ]
  },
  {
   "cell_type": "code",
   "execution_count": null,
   "metadata": {},
   "outputs": [],
   "source": [
    "# ROC curve"
   ]
  }
 ],
 "metadata": {
  "kernelspec": {
   "display_name": "Python 3",
   "language": "python",
   "name": "python3"
  },
  "language_info": {
   "codemirror_mode": {
    "name": "ipython",
    "version": 3
   },
   "file_extension": ".py",
   "mimetype": "text/x-python",
   "name": "python",
   "nbconvert_exporter": "python",
   "pygments_lexer": "ipython3",
   "version": "3.6.8"
  }
 },
 "nbformat": 4,
 "nbformat_minor": 2
}
