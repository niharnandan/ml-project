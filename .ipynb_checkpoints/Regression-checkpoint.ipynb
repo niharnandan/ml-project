{
 "cells": [
  {
   "cell_type": "code",
   "execution_count": 1,
   "metadata": {},
   "outputs": [],
   "source": [
    "import numpy as np\n",
    "import pandas as pd\n",
    "import matplotlib.pyplot as plt"
   ]
  },
  {
   "cell_type": "code",
   "execution_count": 12,
   "metadata": {},
   "outputs": [],
   "source": [
    "merged = pd.read_csv('merged.csv', sep=',', header=0)"
   ]
  },
  {
   "cell_type": "code",
   "execution_count": 13,
   "metadata": {},
   "outputs": [
    {
     "data": {
      "text/plain": [
       "Index(['Date', 'MaximumTemp', 'MinimumTemp', 'AverageTemp', 'Departure', 'HDD',\n",
       "       'CDD', 'Precipitation', 'NewSnow', 'DepartureTemp', 'SnowDepth',\n",
       "       'Ozone', 'CO', 'Electricity(GWh)/Non-Residential',\n",
       "       'Electricity(GWh)/Residential', 'Gas(Therms)/Non-Residential',\n",
       "       'Gas(Therms)/Residential', 'Median_Income(dollars)', 'Population',\n",
       "       'Wind', 'Solar', 'Small hydro', 'Geothermal', 'Biomass', 'Large hydro',\n",
       "       'Coal', 'Nuclear', 'Natural gas', 'Unspecified'],\n",
       "      dtype='object')"
      ]
     },
     "execution_count": 13,
     "metadata": {},
     "output_type": "execute_result"
    }
   ],
   "source": [
    "merged.columns"
   ]
  },
  {
   "cell_type": "markdown",
   "metadata": {},
   "source": [
    "Convert Date column to unix"
   ]
  },
  {
   "cell_type": "code",
   "execution_count": 14,
   "metadata": {},
   "outputs": [],
   "source": [
    "import datetime as dt\n",
    "\n",
    "merged.Date = pd.to_datetime(merged.Date)\n",
    "merged.Date  = (merged.Date - pd.Timestamp(\"1970-01-01\")) // pd.Timedelta('1s')\n",
    "# merged.Date = merged.Date.astype(int)"
   ]
  },
  {
   "cell_type": "code",
   "execution_count": 31,
   "metadata": {},
   "outputs": [],
   "source": [
    "merged = merged.replace('M', None)\n",
    "merged = merged.replace('T', None)"
   ]
  },
  {
   "cell_type": "code",
   "execution_count": 38,
   "metadata": {},
   "outputs": [],
   "source": [
    "merged = merged.fillna(0)"
   ]
  },
  {
   "cell_type": "code",
   "execution_count": 39,
   "metadata": {},
   "outputs": [
    {
     "data": {
      "text/plain": [
       "Date                                1388534400\n",
       "MaximumTemp                                 65\n",
       "MinimumTemp                                 35\n",
       "AverageTemp                               50.0\n",
       "Departure                                  3.7\n",
       "HDD                                         15\n",
       "CDD                                          0\n",
       "Precipitation                              0.0\n",
       "NewSnow                                    0.0\n",
       "DepartureTemp                                0\n",
       "SnowDepth                                    0\n",
       "Ozone                                    0.026\n",
       "CO                                           1\n",
       "Electricity(GWh)/Non-Residential       6258.54\n",
       "Electricity(GWh)/Residential           4736.13\n",
       "Gas(Therms)/Non-Residential             100.81\n",
       "Gas(Therms)/Residential                172.911\n",
       "Median_Income(dollars)                   62203\n",
       "Population                              485199\n",
       "Wind                                     0.081\n",
       "Solar                                    0.042\n",
       "Small hydro                              0.009\n",
       "Geothermal                               0.044\n",
       "Biomass                                  0.025\n",
       "Large hydro                              0.055\n",
       "Coal                                     0.064\n",
       "Nuclear                                  0.085\n",
       "Natural gas                              0.445\n",
       "Unspecified                               0.15\n",
       "Name: 0, dtype: object"
      ]
     },
     "execution_count": 39,
     "metadata": {},
     "output_type": "execute_result"
    }
   ],
   "source": [
    "merged.iloc[0]"
   ]
  },
  {
   "cell_type": "markdown",
   "metadata": {},
   "source": [
    "### Run 2 regression models\n",
    "1) Ozone\n",
    "\n",
    "2) CO"
   ]
  },
  {
   "cell_type": "code",
   "execution_count": 40,
   "metadata": {},
   "outputs": [],
   "source": [
    "ozone_y = merged['Ozone']\n",
    "co_y = merged['CO']"
   ]
  },
  {
   "cell_type": "code",
   "execution_count": 41,
   "metadata": {},
   "outputs": [],
   "source": [
    "features = merged.drop(['Ozone', 'CO'], axis=1)"
   ]
  },
  {
   "cell_type": "markdown",
   "metadata": {},
   "source": [
    "Check that it was actually dropped"
   ]
  },
  {
   "cell_type": "code",
   "execution_count": 42,
   "metadata": {},
   "outputs": [
    {
     "data": {
      "text/plain": [
       "Index(['Date', 'MaximumTemp', 'MinimumTemp', 'AverageTemp', 'Departure', 'HDD',\n",
       "       'CDD', 'Precipitation', 'NewSnow', 'DepartureTemp', 'SnowDepth',\n",
       "       'Electricity(GWh)/Non-Residential', 'Electricity(GWh)/Residential',\n",
       "       'Gas(Therms)/Non-Residential', 'Gas(Therms)/Residential',\n",
       "       'Median_Income(dollars)', 'Population', 'Wind', 'Solar', 'Small hydro',\n",
       "       'Geothermal', 'Biomass', 'Large hydro', 'Coal', 'Nuclear',\n",
       "       'Natural gas', 'Unspecified'],\n",
       "      dtype='object')"
      ]
     },
     "execution_count": 42,
     "metadata": {},
     "output_type": "execute_result"
    }
   ],
   "source": [
    "features.columns"
   ]
  },
  {
   "cell_type": "markdown",
   "metadata": {},
   "source": [
    "## Regression - Ozone"
   ]
  },
  {
   "cell_type": "code",
   "execution_count": 58,
   "metadata": {},
   "outputs": [],
   "source": [
    "from sklearn.model_selection import train_test_split\n",
    "from sklearn.metrics import r2_score\n",
    "\n",
    "X_train_ozone, X_test_ozone, ozone_train, ozone_test = train_test_split(features, ozone_y, test_size=0.4, random_state=0)\n",
    "\n"
   ]
  },
  {
   "cell_type": "code",
   "execution_count": 59,
   "metadata": {},
   "outputs": [],
   "source": [
    "from sklearn import tree\n",
    "\n",
    "clf_ozone = tree.DecisionTreeRegressor()\n",
    "clf_ozone = clf_ozone.fit(X_train_ozone, ozone_train)"
   ]
  },
  {
   "cell_type": "code",
   "execution_count": 60,
   "metadata": {},
   "outputs": [],
   "source": [
    "pred_ozone = clf_ozone.predict(X_test_ozone)"
   ]
  },
  {
   "cell_type": "code",
   "execution_count": 61,
   "metadata": {
    "scrolled": true
   },
   "outputs": [
    {
     "data": {
      "text/plain": [
       "0.428712558236503"
      ]
     },
     "execution_count": 61,
     "metadata": {},
     "output_type": "execute_result"
    }
   ],
   "source": [
    "r2_score(ozone_test, pred_ozone)"
   ]
  },
  {
   "cell_type": "markdown",
   "metadata": {},
   "source": [
    "## Regression - CO"
   ]
  },
  {
   "cell_type": "code",
   "execution_count": 62,
   "metadata": {},
   "outputs": [],
   "source": [
    "from sklearn.model_selection import train_test_split\n",
    "from sklearn.metrics import r2_score\n",
    "\n",
    "X_train_co, X_test_co, co_train, co_test = train_test_split(features, co_y, test_size=0.4, random_state=0)"
   ]
  },
  {
   "cell_type": "code",
   "execution_count": 63,
   "metadata": {},
   "outputs": [],
   "source": [
    "from sklearn import tree\n",
    "\n",
    "clf_ozone = tree.DecisionTreeRegressor()\n",
    "clf_ozone = clf_ozone.fit(X_train_co, co_train)"
   ]
  },
  {
   "cell_type": "code",
   "execution_count": 64,
   "metadata": {},
   "outputs": [],
   "source": [
    "from sklearn import tree\n",
    "\n",
    "clf_ozone = tree.DecisionTreeRegressor()\n",
    "clf_ozone = clf_ozone.fit(X_train_co, co_train)"
   ]
  },
  {
   "cell_type": "code",
   "execution_count": 65,
   "metadata": {},
   "outputs": [],
   "source": [
    "pred_co= clf_ozone.predict(X_test_co)"
   ]
  },
  {
   "cell_type": "code",
   "execution_count": 66,
   "metadata": {},
   "outputs": [
    {
     "data": {
      "text/plain": [
       "0.5197245456226487"
      ]
     },
     "execution_count": 66,
     "metadata": {},
     "output_type": "execute_result"
    }
   ],
   "source": [
    "r2_score(co_test, pred_co)"
   ]
  },
  {
   "cell_type": "code",
   "execution_count": null,
   "metadata": {},
   "outputs": [],
   "source": []
  }
 ],
 "metadata": {
  "kernelspec": {
   "display_name": "Python 3",
   "language": "python",
   "name": "python3"
  },
  "language_info": {
   "codemirror_mode": {
    "name": "ipython",
    "version": 3
   },
   "file_extension": ".py",
   "mimetype": "text/x-python",
   "name": "python",
   "nbconvert_exporter": "python",
   "pygments_lexer": "ipython3",
   "version": "3.6.8"
  }
 },
 "nbformat": 4,
 "nbformat_minor": 2
}
