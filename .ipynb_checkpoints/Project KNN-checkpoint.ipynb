{
 "cells": [
  {
   "cell_type": "code",
   "execution_count": 70,
   "metadata": {},
   "outputs": [],
   "source": [
    "#Import useful functions\n",
    "import numpy as np\n",
    "import matplotlib.pyplot as plt\n",
    "import sklearn\n",
    "import pandas as pd\n",
    "from sklearn.neighbors import KNeighborsClassifier\n",
    "from sklearn.metrics import accuracy_score\n",
    "from sklearn.preprocessing import StandardScaler  \n",
    "from sklearn.model_selection import train_test_split\n",
    "from sklearn.impute import SimpleImputer"
   ]
  },
  {
   "cell_type": "code",
   "execution_count": 71,
   "metadata": {},
   "outputs": [],
   "source": [
    "#load data\n",
    "X = pd.read_csv(\"X_merged.csv\")\n",
    "y = pd.read_csv(\"Y_binary.csv\")"
   ]
  },
  {
   "cell_type": "code",
   "execution_count": 72,
   "metadata": {},
   "outputs": [],
   "source": [
    "X['Departure'] = X['Departure'].fillna(X['DepartureTemp'])"
   ]
  },
  {
   "cell_type": "code",
   "execution_count": 73,
   "metadata": {},
   "outputs": [],
   "source": [
    "X = X.drop(['DepartureTemp'], axis=1)"
   ]
  },
  {
   "cell_type": "code",
   "execution_count": 74,
   "metadata": {},
   "outputs": [],
   "source": [
    "X = X.replace('M', None)\n",
    "X = X.replace('T', None)"
   ]
  },
  {
   "cell_type": "code",
   "execution_count": 75,
   "metadata": {},
   "outputs": [],
   "source": [
    "# #Replace NaN values with the mean for that feature\n",
    "# imp = SimpleImputer(missing_values=np.nan, strategy='mean')\n",
    "# imp = imp.fit(X)\n",
    "# X_imp = imp.transform(X)\n",
    "X = X.fillna(0)\n",
    "X_imp = X"
   ]
  },
  {
   "cell_type": "code",
   "execution_count": 91,
   "metadata": {},
   "outputs": [],
   "source": [
    "#Split data into training and testing\n",
    "X_train, X_test, y_train, y_test = train_test_split(X_imp, y, test_size=0.33, random_state=42)"
   ]
  },
  {
   "cell_type": "code",
   "execution_count": 133,
   "metadata": {},
   "outputs": [],
   "source": [
    "#Apply k nearest neighbors to training\n",
    "clf = KNeighborsClassifier(n_neighbors=8)\n",
    "clf.fit(X_train,y_train)\n",
    "y_pred = clf.predict(X_train)\n",
    "\n",
    "#Apply k nearest neighbors to testing\n",
    "y_pred2 = clf.predict(X_test)"
   ]
  },
  {
   "cell_type": "code",
   "execution_count": 134,
   "metadata": {},
   "outputs": [
    {
     "name": "stdout",
     "output_type": "stream",
     "text": [
      "0.7726901062959934\n",
      "0.714759535655058\n"
     ]
    }
   ],
   "source": [
    "#Compute accuracy on training\n",
    "accuracy =accuracy_score(y_train, y_pred)\n",
    "print(accuracy)\n",
    "\n",
    "#Compute accuracy on testing\n",
    "accuracy2 =accuracy_score(y_test, y_pred2)\n",
    "print(accuracy2)"
   ]
  },
  {
   "cell_type": "code",
   "execution_count": 59,
   "metadata": {},
   "outputs": [],
   "source": [
    "# #Treating all as one dataset\n",
    "# clf = KNeighborsClassifier(n_neighbors=4, weights='distance', algorithm='auto', leaf_size=30, p=2, metric='chebyshev', metric_params=None, n_jobs=None)\n",
    "# clf.fit(X_imp,y)\n",
    "# y_pred3 = clf.predict(X_imp)"
   ]
  },
  {
   "cell_type": "code",
   "execution_count": 60,
   "metadata": {},
   "outputs": [
    {
     "name": "stdout",
     "output_type": "stream",
     "text": [
      "1.0\n"
     ]
    }
   ],
   "source": [
    "# #Compute accuracy for entire dataset\n",
    "# accuracy3 =accuracy_score(y, y_pred3)\n",
    "# print(accuracy3)"
   ]
  },
  {
   "cell_type": "code",
   "execution_count": null,
   "metadata": {},
   "outputs": [],
   "source": [
    "# #Save out binary classifications to csv\n",
    "# np.savetxt(\"KNN_train.csv\", y_pred, delimiter=\",\")\n",
    "# np.savetxt(\"KNN_test.csv\", y_pred2, delimiter=\",\")\n",
    "# np.savetxt(\"KNN_full.csv\", y_pred3, delimiter=\",\")"
   ]
  },
  {
   "cell_type": "code",
   "execution_count": null,
   "metadata": {},
   "outputs": [],
   "source": []
  }
 ],
 "metadata": {
  "kernelspec": {
   "display_name": "Python 3",
   "language": "python",
   "name": "python3"
  },
  "language_info": {
   "codemirror_mode": {
    "name": "ipython",
    "version": 3
   },
   "file_extension": ".py",
   "mimetype": "text/x-python",
   "name": "python",
   "nbconvert_exporter": "python",
   "pygments_lexer": "ipython3",
   "version": "3.6.8"
  }
 },
 "nbformat": 4,
 "nbformat_minor": 2
}
