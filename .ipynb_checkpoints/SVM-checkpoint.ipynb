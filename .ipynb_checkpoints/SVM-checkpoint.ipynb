{
 "cells": [
  {
   "cell_type": "code",
   "execution_count": 1,
   "metadata": {
    "ExecuteTime": {
     "end_time": "2019-04-28T19:05:32.406743Z",
     "start_time": "2019-04-28T19:05:32.402754Z"
    }
   },
   "outputs": [],
   "source": [
    "from sklearn import svm\n",
    "from sklearn.metrics import accuracy_score\n",
    "from sklearn.model_selection import train_test_split\n",
    "import pandas as pd\n",
    "import matplotlib.pyplot as plt\n",
    "import numpy as np"
   ]
  },
  {
   "cell_type": "code",
   "execution_count": 2,
   "metadata": {
    "ExecuteTime": {
     "end_time": "2019-04-28T19:05:32.937578Z",
     "start_time": "2019-04-28T19:05:32.854761Z"
    }
   },
   "outputs": [
    {
     "data": {
      "text/plain": [
       "Index(['Date', 'MaximumTemp', 'MinimumTemp', 'AverageTemp', 'Departure', 'HDD',\n",
       "       'CDD', 'Precipitation', 'NewSnow', 'DepartureTemp', 'SnowDepth',\n",
       "       'Ozone', 'CO', 'Electricity(GWh)/Non-Residential',\n",
       "       'Electricity(GWh)/Residential', 'Gas(Therms)/Non-Residential',\n",
       "       'Gas(Therms)/Residential', 'Median_Income(dollars)', 'Population',\n",
       "       'Wind', 'Solar', 'Small hydro', 'Geothermal', 'Biomass', 'Large hydro',\n",
       "       'Coal', 'Nuclear', 'Natural gas', 'Unspecified', 'bCO', 'bOzone'],\n",
       "      dtype='object')"
      ]
     },
     "execution_count": 2,
     "metadata": {},
     "output_type": "execute_result"
    }
   ],
   "source": [
    "X = pd.read_csv('X_merged.csv')\n",
    "y = pd.read_csv('Y_binary.csv')\n",
    "plot  = pd.read_csv('merged_binary.csv')\n",
    "ybCO = y['bCO']\n",
    "ybOzone = y['bOzone']\n",
    "plot.columns"
   ]
  },
  {
   "cell_type": "code",
   "execution_count": 3,
   "metadata": {},
   "outputs": [],
   "source": [
    "X['Departure'] = X['Departure'].fillna(X['DepartureTemp'])"
   ]
  },
  {
   "cell_type": "code",
   "execution_count": 4,
   "metadata": {},
   "outputs": [],
   "source": [
    "X = X.drop(['DepartureTemp'], axis=1)"
   ]
  },
  {
   "cell_type": "code",
   "execution_count": 5,
   "metadata": {},
   "outputs": [],
   "source": [
    "X = X.replace('M', None)\n",
    "X = X.replace('T', None)"
   ]
  },
  {
   "cell_type": "code",
   "execution_count": 6,
   "metadata": {},
   "outputs": [],
   "source": [
    "X = X.fillna(0)"
   ]
  },
  {
   "cell_type": "code",
   "execution_count": 25,
   "metadata": {
    "ExecuteTime": {
     "end_time": "2019-04-28T18:29:40.103758Z",
     "start_time": "2019-04-28T18:29:40.029955Z"
    }
   },
   "outputs": [
    {
     "data": {
      "text/plain": [
       "0.7647058823529411"
      ]
     },
     "execution_count": 25,
     "metadata": {},
     "output_type": "execute_result"
    }
   ],
   "source": [
    "C = 2\n",
    "gamma = 1\n",
    "X_train, X_test, y_train, y_test = train_test_split(X, ybCO, test_size=0.4, random_state=42)\n",
    "clf = clf = svm.SVC(C=C,kernel='rbf', gamma=gamma, )\n",
    "# 2. Fit the model according to the given training data.\n",
    "clf.fit(X_train, y_train)\n",
    "predict = clf.predict(X_test)\n",
    "accuracy_score(predict, y_test)"
   ]
  },
  {
   "cell_type": "code",
   "execution_count": 23,
   "metadata": {
    "ExecuteTime": {
     "end_time": "2019-04-28T18:29:26.629884Z",
     "start_time": "2019-04-28T18:29:26.509243Z"
    }
   },
   "outputs": [
    {
     "data": {
      "text/plain": [
       "0.6366559485530546"
      ]
     },
     "execution_count": 23,
     "metadata": {},
     "output_type": "execute_result"
    }
   ],
   "source": [
    "c = 1\n",
    "Gamma = 1\n",
    "X_train, X_test, y_train, y_test = train_test_split(X, ybOzone, test_size=0.17, random_state=42)\n",
    "clf = svm.SVC(C=c,kernel='rbf', gamma=Gamma, tol=1)\n",
    "# 2. Fit the model according to the given training data.\n",
    "clf.fit(X_train, y_train)\n",
    "predict = clf.predict(X_test)\n",
    "accuracy_score(predict, y_test)"
   ]
  },
  {
   "cell_type": "code",
   "execution_count": 9,
   "metadata": {
    "ExecuteTime": {
     "end_time": "2019-04-28T19:10:14.437321Z",
     "start_time": "2019-04-28T19:10:14.308152Z"
    }
   },
   "outputs": [
    {
     "data": {
      "image/png": "[encoded data removed]",
      "text/plain": [
       "<Figure size 432x288 with 1 Axes>"
      ]
     },
     "metadata": {
      "needs_background": "light"
     },
     "output_type": "display_data"
    }
   ],
   "source": [
    "plt.scatter(plot[ybCO==0]['Nuclear'], plot[ybCO==0]['Coal'], label='Class 1', c='red')\n",
    "#plt.scatter(plot[ybOzone==1]['Nuclear'], plot[ybOzone==1]['Population'], label='Class 2', c='blue')\n",
    "\n",
    "# Prettify the graph\n",
    "plt.legend()\n",
    "plt.xlabel('Flavanoids')\n",
    "plt.ylabel('NonflavanoidPhenols')\n",
    "\n",
    "# display\n",
    "plt.show()"
   ]
  },
  {
   "cell_type": "code",
   "execution_count": null,
   "metadata": {},
   "outputs": [],
   "source": []
  },
  {
   "cell_type": "code",
   "execution_count": null,
   "metadata": {},
   "outputs": [],
   "source": []
  },
  {
   "cell_type": "code",
   "execution_count": null,
   "metadata": {},
   "outputs": [],
   "source": []
  }
 ],
 "metadata": {
  "kernelspec": {
   "display_name": "Python 3",
   "language": "python",
   "name": "python3"
  },
  "language_info": {
   "codemirror_mode": {
    "name": "ipython",
    "version": 3
   },
   "file_extension": ".py",
   "mimetype": "text/x-python",
   "name": "python",
   "nbconvert_exporter": "python",
   "pygments_lexer": "ipython3",
   "version": "3.6.8"
  },
  "varInspector": {
   "cols": {
    "lenName": 16,
    "lenType": 16,
    "lenVar": 40
   },
   "kernels_config": {
    "python": {
     "delete_cmd_postfix": "",
     "delete_cmd_prefix": "del ",
     "library": "var_list.py",
     "varRefreshCmd": "print(var_dic_list())"
    },
    "r": {
     "delete_cmd_postfix": ") ",
     "delete_cmd_prefix": "rm(",
     "library": "var_list.r",
     "varRefreshCmd": "cat(var_dic_list()) "
    }
   },
   "types_to_exclude": [
    "module",
    "function",
    "builtin_function_or_method",
    "instance",
    "_Feature"
   ],
   "window_display": false
  }
 },
 "nbformat": 4,
 "nbformat_minor": 2
}
