{
 "cells": [
  {
   "cell_type": "code",
   "execution_count": 115,
   "metadata": {
    "ExecuteTime": {
     "end_time": "2019-03-06T06:26:52.172252Z",
     "start_time": "2019-03-06T06:26:52.168237Z"
    }
   },
   "outputs": [],
   "source": [
    "import pandas as pd\n",
    "import numpy as np"
   ]
  },
  {
   "cell_type": "code",
   "execution_count": 116,
   "metadata": {
    "ExecuteTime": {
     "end_time": "2019-03-06T06:26:53.629696Z",
     "start_time": "2019-03-06T06:26:53.278500Z"
    }
   },
   "outputs": [],
   "source": [
    "final = pd.read_csv('NOAA Temp/14_01.csv')\n",
    "final = final.drop(columns = '3')\n",
    "dti = pd.date_range('01/01/2014', periods=1826, freq='D')\n",
    "for j in range(14,19):\n",
    "    for i in range(1,13):\n",
    "        if j == 14 and i == 1: continue\n",
    "        temp = pd.read_csv('NOAA Temp/'+str(j)+'_{:02d}'.format(i)+'.csv')\n",
    "        temp = temp.drop(temp.columns[[0]], axis=1)\n",
    "        final = pd.concat([final, temp], sort=False)\n",
    "final['Date'] = dti"
   ]
  },
  {
   "cell_type": "code",
   "execution_count": null,
   "metadata": {
    "ExecuteTime": {
     "end_time": "2019-03-06T05:58:34.410271Z",
     "start_time": "2019-03-06T05:58:34.354422Z"
    }
   },
   "outputs": [],
   "source": []
  },
  {
   "cell_type": "code",
   "execution_count": 137,
   "metadata": {
    "ExecuteTime": {
     "end_time": "2019-03-06T06:36:23.887691Z",
     "start_time": "2019-03-06T06:36:23.841810Z"
    }
   },
   "outputs": [
    {
     "name": "stdout",
     "output_type": "stream",
     "text": [
      "365\n",
      "366\n",
      "365\n",
      "365\n",
      "365\n",
      "366\n",
      "365\n",
      "365\n"
     ]
    }
   ],
   "source": [
    "for j in ['Ozone', 'CO']:\n",
    "    final2 = pd.read_csv(j+'/datafile2014.txt', sep=',', nrows=31)\n",
    "    final2 = final2.drop(columns = 'dom')\n",
    "    temp = final2.values\n",
    "    temp = temp.astype(np.float)\n",
    "    temp = temp.flatten('F')\n",
    "    temp = temp[np.isfinite(temp)]\n",
    "    for i in range(2015,2019):\n",
    "        final2 = pd.read_csv(j+'/datafile'+str(i)+'.txt', sep=',', nrows=31)\n",
    "        final2 = final2.drop(columns = 'dom')\n",
    "        temp2 = final2.values\n",
    "        temp2 = temp2.astype(np.float)\n",
    "        temp2 = temp2.flatten('F')\n",
    "        temp2 = temp2[np.isfinite(temp2)]\n",
    "        print(len(temp2))\n",
    "        temp = np.append(temp, temp2)\n",
    "    final[j] = temp"
   ]
  },
  {
   "cell_type": "code",
   "execution_count": 138,
   "metadata": {
    "ExecuteTime": {
     "end_time": "2019-03-06T06:36:24.359988Z",
     "start_time": "2019-03-06T06:36:24.309123Z"
    }
   },
   "outputs": [
    {
     "data": {
      "text/html": [
       "<div>\n",
       "<style scoped>\n",
       "    .dataframe tbody tr th:only-of-type {\n",
       "        vertical-align: middle;\n",
       "    }\n",
       "\n",
       "    .dataframe tbody tr th {\n",
       "        vertical-align: top;\n",
       "    }\n",
       "\n",
       "    .dataframe thead th {\n",
       "        text-align: right;\n",
       "    }\n",
       "</style>\n",
       "<table border=\"1\" class=\"dataframe\">\n",
       "  <thead>\n",
       "    <tr style=\"text-align: right;\">\n",
       "      <th></th>\n",
       "      <th>Date</th>\n",
       "      <th>MaximumTemp</th>\n",
       "      <th>MinimumTemp</th>\n",
       "      <th>AverageTemp</th>\n",
       "      <th>Departure</th>\n",
       "      <th>HDD</th>\n",
       "      <th>CDD</th>\n",
       "      <th>Precipitation</th>\n",
       "      <th>NewSnow</th>\n",
       "      <th>DepartureTemp</th>\n",
       "      <th>SnowDepth</th>\n",
       "      <th>Ozone</th>\n",
       "      <th>CO</th>\n",
       "    </tr>\n",
       "  </thead>\n",
       "  <tbody>\n",
       "    <tr>\n",
       "      <th>0</th>\n",
       "      <td>2014-01-01</td>\n",
       "      <td>65</td>\n",
       "      <td>35</td>\n",
       "      <td>50</td>\n",
       "      <td>3.7</td>\n",
       "      <td>15</td>\n",
       "      <td>0</td>\n",
       "      <td>0</td>\n",
       "      <td>0</td>\n",
       "      <td>NaN</td>\n",
       "      <td>NaN</td>\n",
       "      <td>0.026</td>\n",
       "      <td>1.000</td>\n",
       "    </tr>\n",
       "    <tr>\n",
       "      <th>1</th>\n",
       "      <td>2014-01-02</td>\n",
       "      <td>66</td>\n",
       "      <td>37</td>\n",
       "      <td>51.5</td>\n",
       "      <td>5.1</td>\n",
       "      <td>13</td>\n",
       "      <td>0</td>\n",
       "      <td>0</td>\n",
       "      <td>0</td>\n",
       "      <td>NaN</td>\n",
       "      <td>NaN</td>\n",
       "      <td>0.021</td>\n",
       "      <td>1.246</td>\n",
       "    </tr>\n",
       "    <tr>\n",
       "      <th>2</th>\n",
       "      <td>2014-01-03</td>\n",
       "      <td>66</td>\n",
       "      <td>38</td>\n",
       "      <td>52</td>\n",
       "      <td>5.6</td>\n",
       "      <td>13</td>\n",
       "      <td>0</td>\n",
       "      <td>0</td>\n",
       "      <td>0</td>\n",
       "      <td>NaN</td>\n",
       "      <td>NaN</td>\n",
       "      <td>0.019</td>\n",
       "      <td>1.162</td>\n",
       "    </tr>\n",
       "    <tr>\n",
       "      <th>3</th>\n",
       "      <td>2014-01-04</td>\n",
       "      <td>65</td>\n",
       "      <td>37</td>\n",
       "      <td>51</td>\n",
       "      <td>4.6</td>\n",
       "      <td>14</td>\n",
       "      <td>0</td>\n",
       "      <td>0</td>\n",
       "      <td>0</td>\n",
       "      <td>NaN</td>\n",
       "      <td>NaN</td>\n",
       "      <td>0.023</td>\n",
       "      <td>1.050</td>\n",
       "    </tr>\n",
       "    <tr>\n",
       "      <th>4</th>\n",
       "      <td>2014-01-05</td>\n",
       "      <td>65</td>\n",
       "      <td>36</td>\n",
       "      <td>50.5</td>\n",
       "      <td>4.0</td>\n",
       "      <td>14</td>\n",
       "      <td>0</td>\n",
       "      <td>0</td>\n",
       "      <td>0</td>\n",
       "      <td>NaN</td>\n",
       "      <td>NaN</td>\n",
       "      <td>0.029</td>\n",
       "      <td>0.983</td>\n",
       "    </tr>\n",
       "  </tbody>\n",
       "</table>\n",
       "</div>"
      ],
      "text/plain": [
       "        Date MaximumTemp MinimumTemp AverageTemp  Departure HDD CDD  \\\n",
       "0 2014-01-01          65          35          50        3.7  15   0   \n",
       "1 2014-01-02          66          37        51.5        5.1  13   0   \n",
       "2 2014-01-03          66          38          52        5.6  13   0   \n",
       "3 2014-01-04          65          37          51        4.6  14   0   \n",
       "4 2014-01-05          65          36        50.5        4.0  14   0   \n",
       "\n",
       "  Precipitation NewSnow DepartureTemp  SnowDepth  Ozone     CO  \n",
       "0             0       0           NaN        NaN  0.026  1.000  \n",
       "1             0       0           NaN        NaN  0.021  1.246  \n",
       "2             0       0           NaN        NaN  0.019  1.162  \n",
       "3             0       0           NaN        NaN  0.023  1.050  \n",
       "4             0       0           NaN        NaN  0.029  0.983  "
      ]
     },
     "execution_count": 138,
     "metadata": {},
     "output_type": "execute_result"
    }
   ],
   "source": [
    "final.to_csv('merged.csv',index=False)\n",
    "final.head()"
   ]
  },
  {
   "cell_type": "code",
   "execution_count": null,
   "metadata": {},
   "outputs": [],
   "source": []
  }
 ],
 "metadata": {
  "kernelspec": {
   "display_name": "Python 3",
   "language": "python",
   "name": "python3"
  },
  "language_info": {
   "codemirror_mode": {
    "name": "ipython",
    "version": 3
   },
   "file_extension": ".py",
   "mimetype": "text/x-python",
   "name": "python",
   "nbconvert_exporter": "python",
   "pygments_lexer": "ipython3",
   "version": "3.7.0"
  },
  "varInspector": {
   "cols": {
    "lenName": 16,
    "lenType": 16,
    "lenVar": 40
   },
   "kernels_config": {
    "python": {
     "delete_cmd_postfix": "",
     "delete_cmd_prefix": "del ",
     "library": "var_list.py",
     "varRefreshCmd": "print(var_dic_list())"
    },
    "r": {
     "delete_cmd_postfix": ") ",
     "delete_cmd_prefix": "rm(",
     "library": "var_list.r",
     "varRefreshCmd": "cat(var_dic_list()) "
    }
   },
   "types_to_exclude": [
    "module",
    "function",
    "builtin_function_or_method",
    "instance",
    "_Feature"
   ],
   "window_display": false
  }
 },
 "nbformat": 4,
 "nbformat_minor": 2
}
