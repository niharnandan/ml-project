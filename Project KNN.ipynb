{
 "cells": [
  {
   "cell_type": "code",
   "execution_count": 12,
   "metadata": {},
   "outputs": [],
   "source": [
    "#Import useful functions\n",
    "import numpy as np\n",
    "import matplotlib.pyplot as plt\n",
    "import sklearn\n",
    "import pandas as pd\n",
    "from sklearn.neighbors import KNeighborsClassifier\n",
    "from sklearn.metrics import accuracy_score\n",
    "from sklearn.preprocessing import StandardScaler  \n",
    "from sklearn.model_selection import train_test_split"
   ]
  },
  {
   "cell_type": "code",
   "execution_count": 47,
   "metadata": {},
   "outputs": [],
   "source": [
    "#load data\n",
    "X = pd.read_csv(\"X_merged2.csv\")\n",
    "y_o3 = pd.read_csv(\"Y_O3.csv\")\n",
    "y_co = pd.read_csv(\"Y_CO.csv\")\n",
    "y_o3 = np.ravel(y_o3)\n",
    "y_co = np.ravel(y_co)"
   ]
  },
  {
   "cell_type": "code",
   "execution_count": 48,
   "metadata": {},
   "outputs": [],
   "source": [
    "#Cleaning the data\n",
    "X['Departure'] = X['Departure'].fillna(X['DepartureTep'])\n",
    "X = X.drop(['DepartureTep'], axis=1)\n",
    "X = X.replace('M', None)\n",
    "X = X.replace('T', None)\n",
    "X = X.fillna(0)"
   ]
  },
  {
   "cell_type": "code",
   "execution_count": 57,
   "metadata": {},
   "outputs": [
    {
     "name": "stdout",
     "output_type": "stream",
     "text": [
      "0.8626543209876543\n",
      "0.8377358490566038\n"
     ]
    }
   ],
   "source": [
    "#OZONE\n",
    "\n",
    "#Split data into training and testing\n",
    "X_train, X_test, y_train, y_test = train_test_split(X, y_o3, test_size=0.29, random_state=42)\n",
    "\n",
    "#Apply k nearest neighbors to training\n",
    "clf = KNeighborsClassifier(n_neighbors=6, weights='uniform', algorithm='auto', leaf_size=30, p=2, metric='minkowski', metric_params=None, n_jobs=None)\n",
    "clf.fit(X_train,y_train)\n",
    "y_pred = clf.predict(X_train)\n",
    "\n",
    "#Apply k nearest neighbors to testing\n",
    "y_pred2 = clf.predict(X_test)\n",
    "\n",
    "#Compute accuracy on training\n",
    "accuracy =accuracy_score(y_train, y_pred)\n",
    "print(accuracy)\n",
    "\n",
    "#Compute accuracy on testing\n",
    "accuracy2 =accuracy_score(y_test, y_pred2)\n",
    "print(accuracy2)"
   ]
  },
  {
   "cell_type": "code",
   "execution_count": 121,
   "metadata": {},
   "outputs": [
    {
     "name": "stdout",
     "output_type": "stream",
     "text": [
      "0.8724448078495503\n",
      "0.4444444444444444\n"
     ]
    }
   ],
   "source": [
    "#CARBON MONOXOIDE\n",
    "\n",
    "#Split data into training and testing\n",
    "X_train2, X_test2, y_train2, y_test2 = train_test_split(X, y_co, test_size=0.33, random_state=None)\n",
    "\n",
    "#Apply k nearest neighbors to training\n",
    "clf2 = KNeighborsClassifier(n_neighbors=6)\n",
    "clf2.fit(X_train2,y_train2)\n",
    "y_pred3 = clf2.predict(X_train2)\n",
    "\n",
    "#Apply k nearest neighbors to testing\n",
    "y_pred4 = clf.predict(X_test2)\n",
    "\n",
    "#Compute accuracy on training\n",
    "accuracy3 =accuracy_score(y_train2, y_pred3)\n",
    "print(accuracy3)\n",
    "\n",
    "#Compute accuracy on testing\n",
    "accuracy4 =accuracy_score(y_test2, y_pred4)\n",
    "print(accuracy4)"
   ]
  }
 ],
 "metadata": {
  "kernelspec": {
   "display_name": "Python 3",
   "language": "python",
   "name": "python3"
  },
  "language_info": {
   "codemirror_mode": {
    "name": "ipython",
    "version": 3
   },
   "file_extension": ".py",
   "mimetype": "text/x-python",
   "name": "python",
   "nbconvert_exporter": "python",
   "pygments_lexer": "ipython3",
   "version": "3.7.1"
  }
 },
 "nbformat": 4,
 "nbformat_minor": 2
}
